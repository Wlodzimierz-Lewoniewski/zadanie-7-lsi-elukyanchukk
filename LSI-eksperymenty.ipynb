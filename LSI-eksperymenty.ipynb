{
 "cells": [
  {
   "cell_type": "markdown",
   "metadata": {},
   "source": [
    "# Dekompozycja SVD\n",
    "\n",
    "Analiza przykładu z zajęć"
   ]
  },
  {
   "cell_type": "code",
   "execution_count": 168,
   "metadata": {},
   "outputs": [
    {
     "data": {
      "text/plain": [
       "array([[1, 0, 1, 0, 0, 0],\n",
       "       [0, 1, 0, 0, 0, 0],\n",
       "       [1, 1, 0, 0, 0, 0],\n",
       "       [1, 0, 0, 1, 1, 0],\n",
       "       [0, 0, 0, 1, 0, 1]])"
      ]
     },
     "execution_count": 168,
     "metadata": {},
     "output_type": "execute_result"
    }
   ],
   "source": [
    "import numpy as np\n",
    "np.set_printoptions(precision=2,suppress=True)\n",
    "\n",
    "C = np.array([[1,0,1,0,0,0], [0,1,0,0,0,0], [1,1,0,0,0,0], [1,0,0,1,1,0], [0,0,0,1,0,1]])\n",
    "np.set_printoptions(precision=3)\n",
    "C"
   ]
  },
  {
   "cell_type": "markdown",
   "metadata": {},
   "source": [
    "Dokonujemy dekompozycji SVD i wypisujemy odpowiednie składowe.\n",
    "Uwaga: użyliśmy opcji *full_matrices=False*, co oznacza, że macierz $\\mathbf U$ lub $\\mathbf V^T$ będą przycięte tak, aby pasowały do kwadratowej macierzy $\\Sigma$.\n",
    "Uwaga: trzecia macierz zwracana jest już transponowana, czyli w istocie $\\mathbf V^T$."
   ]
  },
  {
   "cell_type": "code",
   "execution_count": 169,
   "metadata": {},
   "outputs": [
    {
     "data": {
      "text/plain": [
       "((5, 5), (5,), (5, 6))"
      ]
     },
     "execution_count": 169,
     "metadata": {},
     "output_type": "execute_result"
    }
   ],
   "source": [
    "U, s, Vt = np.linalg.svd(C, full_matrices=False)\n",
    "U.shape, s.shape, Vt.shape"
   ]
  },
  {
   "cell_type": "code",
   "execution_count": 170,
   "metadata": {},
   "outputs": [
    {
     "data": {
      "text/plain": [
       "array([[ 0.44 , -0.296, -0.569,  0.577, -0.246],\n",
       "       [ 0.129, -0.331,  0.587, -0.   , -0.727],\n",
       "       [ 0.476, -0.511,  0.368, -0.   ,  0.614],\n",
       "       [ 0.703,  0.351, -0.155, -0.577, -0.16 ],\n",
       "       [ 0.263,  0.647,  0.415,  0.577,  0.087]])"
      ]
     },
     "execution_count": 170,
     "metadata": {},
     "output_type": "execute_result"
    }
   ],
   "source": [
    "U"
   ]
  },
  {
   "cell_type": "code",
   "execution_count": 171,
   "metadata": {},
   "outputs": [
    {
     "data": {
      "text/plain": [
       "array([[ 2.163,  0.   ,  0.   ,  0.   ,  0.   ],\n",
       "       [ 0.   ,  1.594,  0.   ,  0.   ,  0.   ],\n",
       "       [ 0.   ,  0.   ,  1.275,  0.   ,  0.   ],\n",
       "       [ 0.   ,  0.   ,  0.   ,  1.   ,  0.   ],\n",
       "       [ 0.   ,  0.   ,  0.   ,  0.   ,  0.394]])"
      ]
     },
     "execution_count": 171,
     "metadata": {},
     "output_type": "execute_result"
    }
   ],
   "source": [
    "S = np.diag(s)\n",
    "S"
   ]
  },
  {
   "cell_type": "code",
   "execution_count": 172,
   "metadata": {},
   "outputs": [
    {
     "data": {
      "text/plain": [
       "array([[ 0.749,  0.28 ,  0.204,  0.447,  0.325,  0.121],\n",
       "       [-0.286, -0.528, -0.186,  0.626,  0.22 ,  0.406],\n",
       "       [-0.28 ,  0.749, -0.447,  0.204, -0.121,  0.325],\n",
       "       [-0.   ,  0.   ,  0.577,  0.   , -0.577,  0.577],\n",
       "       [ 0.528, -0.286, -0.626, -0.186, -0.406,  0.22 ]])"
      ]
     },
     "execution_count": 172,
     "metadata": {},
     "output_type": "execute_result"
    }
   ],
   "source": [
    "Vt"
   ]
  },
  {
   "cell_type": "markdown",
   "metadata": {},
   "source": [
    "Macierz $U_{M \\times M}$ składa się z ortogonalnych wektorów własnych macierzy $CC^T$. Poniżej $lambda1$ to wektor wartości własnych, a $\\mathbf X_1$ to macierz wektorów własnych. Zwróćmy uwagę na podobieństwo $\\mathbf U$ oraz $\\mathbf X_1$ (porównujemy kolumnami, które mogą być w różnej kolejności)."
   ]
  },
  {
   "cell_type": "code",
   "execution_count": 173,
   "metadata": {},
   "outputs": [
    {
     "data": {
      "text/plain": [
       "(array([ 4.676,  0.155,  1.   ,  1.626,  2.542]),\n",
       " array([[ 0.44 ,  0.246,  0.577, -0.569,  0.296],\n",
       "        [ 0.129,  0.727, -0.   ,  0.587,  0.331],\n",
       "        [ 0.476, -0.614, -0.   ,  0.368,  0.511],\n",
       "        [ 0.703,  0.16 , -0.577, -0.155, -0.351],\n",
       "        [ 0.263, -0.087,  0.577,  0.415, -0.647]]))"
      ]
     },
     "execution_count": 173,
     "metadata": {},
     "output_type": "execute_result"
    }
   ],
   "source": [
    "lambda1, X1 = np.linalg.eig(C.dot(C.T))\n",
    "lambda1, X1"
   ]
  },
  {
   "cell_type": "markdown",
   "metadata": {},
   "source": [
    "Macierz $V_{N \\times N}$ składa się z ortogonalnych wektorów własnych macierzy $C^TC$. Poniżej $lambda2$ to wektor wartości własnych, a $\\mathbf X_2$ to macierz wektorów własnych. Zwróćmy uwagę na podobieństwo $\\mathbf V^T$ oraz $\\mathbf X_2^T$ (porównujemyu wierszamy, które są w różnej kolejności). Wartości własne macierzy $CC^T$ oraz $C^TC$ są identyczne - wektory $lambda1$ i $lambda2$."
   ]
  },
  {
   "cell_type": "code",
   "execution_count": 174,
   "metadata": {},
   "outputs": [
    {
     "data": {
      "text/plain": [
       "(array([ 4.676,  0.155,  1.626,  2.542,  1.   ,  0.   ]),\n",
       " array([[ 0.749,  0.28 ,  0.204,  0.447,  0.325,  0.121],\n",
       "        [ 0.528, -0.286, -0.626, -0.186, -0.406,  0.22 ],\n",
       "        [-0.28 ,  0.749, -0.447,  0.204, -0.121,  0.325],\n",
       "        [-0.286, -0.528, -0.186,  0.626,  0.22 ,  0.406],\n",
       "        [-0.   ,  0.   , -0.577, -0.   ,  0.577, -0.577],\n",
       "        [-0.   ,  0.   ,  0.   , -0.577,  0.577,  0.577]]))"
      ]
     },
     "execution_count": 174,
     "metadata": {},
     "output_type": "execute_result"
    }
   ],
   "source": [
    "lambda2, X2 = np.linalg.eig(C.T.dot(C))\n",
    "lambda2, X2.T"
   ]
  },
  {
   "cell_type": "markdown",
   "metadata": {},
   "source": [
    "Sprawdźmy, czy macierz $\\mathbf U$ jest ortogonalna, czyli czy $U^TU=I_M$"
   ]
  },
  {
   "cell_type": "code",
   "execution_count": 175,
   "metadata": {
    "scrolled": true
   },
   "outputs": [
    {
     "data": {
      "text/plain": [
       "array([[ 1.,  0.,  0., -0.,  0.],\n",
       "       [ 0.,  1.,  0.,  0., -0.],\n",
       "       [ 0.,  0.,  1., -0.,  0.],\n",
       "       [-0.,  0., -0.,  1.,  0.],\n",
       "       [ 0., -0.,  0.,  0.,  1.]])"
      ]
     },
     "execution_count": 175,
     "metadata": {},
     "output_type": "execute_result"
    }
   ],
   "source": [
    "U.T.dot(U)"
   ]
  },
  {
   "cell_type": "markdown",
   "metadata": {},
   "source": [
    "Podobnie, sprawdźmy, czy macierz $\\mathbf V$ jest ortogonalna, czyli czy $V^TV=I_N$.\n",
    "Uwaga: trzeba brać pod uwagę, że $\\mathbf U$ lub odpowiednio $\\mathbf V$ mogły być wcześniej przycięte i nie są już kwadratowe."
   ]
  },
  {
   "cell_type": "code",
   "execution_count": 176,
   "metadata": {},
   "outputs": [
    {
     "data": {
      "text/plain": [
       "array([[ 1.,  0.,  0., -0., -0.],\n",
       "       [ 0.,  1., -0., -0.,  0.],\n",
       "       [ 0., -0.,  1.,  0.,  0.],\n",
       "       [-0., -0.,  0.,  1.,  0.],\n",
       "       [-0.,  0.,  0.,  0.,  1.]])"
      ]
     },
     "execution_count": 176,
     "metadata": {},
     "output_type": "execute_result"
    }
   ],
   "source": [
    "Vt.dot(Vt.T)"
   ]
  },
  {
   "cell_type": "markdown",
   "metadata": {},
   "source": [
    "Sprawdźmy, czy zachodzi związek między SVD a dekompozycją diagonalną, tj. czy $CC^T = U \\Sigma V^T \\cdot V \\Sigma^T U^T = U \\Sigma \\Sigma^T U^T = U \\Sigma^2 U^T$"
   ]
  },
  {
   "cell_type": "code",
   "execution_count": 187,
   "metadata": {},
   "outputs": [
    {
     "data": {
      "text/plain": [
       "True"
      ]
     },
     "execution_count": 187,
     "metadata": {},
     "output_type": "execute_result"
    }
   ],
   "source": [
    "np.allclose(C.dot(C.T), U.dot(S).dot(S).dot(U.T))"
   ]
  },
  {
   "cell_type": "markdown",
   "metadata": {},
   "source": [
    "oraz czy zachodzi $C^TC = V \\Sigma^T U^T \\cdot  U \\Sigma V^T = V \\Sigma^T \\Sigma V^T = V \\Sigma^2 V^T$"
   ]
  },
  {
   "cell_type": "code",
   "execution_count": 188,
   "metadata": {},
   "outputs": [
    {
     "data": {
      "text/plain": [
       "True"
      ]
     },
     "execution_count": 188,
     "metadata": {},
     "output_type": "execute_result"
    }
   ],
   "source": [
    "np.allclose(C.T.dot(C), Vt.T.dot(S).dot(S).dot(Vt))"
   ]
  },
  {
   "cell_type": "markdown",
   "metadata": {},
   "source": [
    "Sprawdzamy, czy po przemnożeniu otrzymujemy tę samą macierz, tj. czy $C_{new}=USV^T=C$"
   ]
  },
  {
   "cell_type": "code",
   "execution_count": 178,
   "metadata": {},
   "outputs": [
    {
     "data": {
      "text/plain": [
       "array([[ 1.,  0.,  1.,  0.,  0., -0.],\n",
       "       [ 0.,  1.,  0.,  0.,  0., -0.],\n",
       "       [ 1.,  1., -0.,  0.,  0.,  0.],\n",
       "       [ 1.,  0., -0.,  1.,  1.,  0.],\n",
       "       [ 0., -0., -0.,  1.,  0.,  1.]])"
      ]
     },
     "execution_count": 178,
     "metadata": {},
     "output_type": "execute_result"
    }
   ],
   "source": [
    "C_new = U.dot(S.dot(Vt))\n",
    "C_new"
   ]
  },
  {
   "cell_type": "markdown",
   "metadata": {},
   "source": [
    "Możemy w tym celu użyć specjalnej funkcji do porównania"
   ]
  },
  {
   "cell_type": "code",
   "execution_count": 179,
   "metadata": {},
   "outputs": [
    {
     "data": {
      "text/plain": [
       "True"
      ]
     },
     "execution_count": 179,
     "metadata": {},
     "output_type": "execute_result"
    }
   ],
   "source": [
    "np.allclose(C, C_new)"
   ]
  },
  {
   "cell_type": "markdown",
   "metadata": {},
   "source": [
    "Zredukujmy teraz liczbę wartości osobliwych do k=3"
   ]
  },
  {
   "cell_type": "code",
   "execution_count": 192,
   "metadata": {},
   "outputs": [
    {
     "data": {
      "text/plain": [
       "array([ 2.163,  1.594,  1.275,  0.   ,  0.   ])"
      ]
     },
     "execution_count": 192,
     "metadata": {},
     "output_type": "execute_result"
    }
   ],
   "source": [
    "k = 3\n",
    "sr = np.copy(s)\n",
    "sr[k:] = 0\n",
    "sr"
   ]
  },
  {
   "cell_type": "code",
   "execution_count": 193,
   "metadata": {},
   "outputs": [
    {
     "data": {
      "text/plain": [
       "array([[ 2.163,  0.   ,  0.   ,  0.   ,  0.   ],\n",
       "       [ 0.   ,  1.594,  0.   ,  0.   ,  0.   ],\n",
       "       [ 0.   ,  0.   ,  1.275,  0.   ,  0.   ],\n",
       "       [ 0.   ,  0.   ,  0.   ,  0.   ,  0.   ],\n",
       "       [ 0.   ,  0.   ,  0.   ,  0.   ,  0.   ]])"
      ]
     },
     "execution_count": 193,
     "metadata": {},
     "output_type": "execute_result"
    }
   ],
   "source": [
    "Sr = np.diag(sr)\n",
    "Sr"
   ]
  },
  {
   "cell_type": "markdown",
   "metadata": {},
   "source": [
    "Jaki będzie wpływ na macierz term-dokument? Wyniki nie wydają się już tak dobrze dopasowane. Policzmy $C_r=US_rV^T$"
   ]
  },
  {
   "cell_type": "code",
   "execution_count": 200,
   "metadata": {},
   "outputs": [
    {
     "data": {
      "text/plain": [
       "array([[ 1.051, -0.028,  0.606, -0.018,  0.294, -0.312],\n",
       "       [ 0.151,  0.918, -0.179, -0.053, -0.116,  0.063],\n",
       "       [ 0.872,  1.069,  0.151,  0.045,  0.098, -0.053],\n",
       "       [ 1.033, -0.018,  0.294,  0.988,  0.641,  0.347],\n",
       "       [-0.018,  0.01 , -0.312,  1.006,  0.347,  0.659]])"
      ]
     },
     "execution_count": 200,
     "metadata": {},
     "output_type": "execute_result"
    }
   ],
   "source": [
    "Cr = U.dot(Sr.dot(Vt))\n",
    "Cr"
   ]
  },
  {
   "cell_type": "markdown",
   "metadata": {},
   "source": [
    "Policzmy teraz nową reprezentację dokumentów, tj. wyznaczmy macierz $\\mathbf C_k = \\pmb \\Sigma_r \\mathbf V^T$."
   ]
  },
  {
   "cell_type": "code",
   "execution_count": 201,
   "metadata": {},
   "outputs": [
    {
     "data": {
      "text/plain": [
       "array([[ 1.619,  0.605,  0.44 ,  0.966,  0.703,  0.263],\n",
       "       [-0.457, -0.843, -0.296,  0.997,  0.351,  0.647],\n",
       "       [-0.357,  0.955, -0.569,  0.26 , -0.155,  0.415],\n",
       "       [ 0.   ,  0.   ,  0.   ,  0.   ,  0.   ,  0.   ],\n",
       "       [ 0.   ,  0.   ,  0.   ,  0.   ,  0.   ,  0.   ]])"
      ]
     },
     "execution_count": 201,
     "metadata": {},
     "output_type": "execute_result"
    }
   ],
   "source": [
    "Ck = Sr.dot(Vt)\n",
    "Ck"
   ]
  },
  {
   "cell_type": "markdown",
   "metadata": {},
   "source": [
    "W istocie nie potrzebujemy takiej dużej macierzy $\\mathbf V^T$. Spróbujmy ją zredukować. Trzeba usunąć niepotrzebne kolumny i zostawić tylko pierwsze k, otrzymując $\\mathbf V_k^T$. Analigocznie dla $\\pmb \\Sigma_K$, aby dały się nadal mnożyć. Ostatecznie $\\mathbf C_k = \\pmb \\Sigma_k \\mathbf V_k^T$."
   ]
  },
  {
   "cell_type": "code",
   "execution_count": 202,
   "metadata": {},
   "outputs": [
    {
     "data": {
      "text/plain": [
       "array([[ 2.163,  0.   ,  0.   ],\n",
       "       [ 0.   ,  1.594,  0.   ],\n",
       "       [ 0.   ,  0.   ,  1.275]])"
      ]
     },
     "execution_count": 202,
     "metadata": {},
     "output_type": "execute_result"
    }
   ],
   "source": [
    "sk = np.take(s, range(k), axis=0)\n",
    "Sk = np.diag(sk)\n",
    "Sk"
   ]
  },
  {
   "cell_type": "code",
   "execution_count": 218,
   "metadata": {},
   "outputs": [
    {
     "data": {
      "text/plain": [
       "array([[ 0.749,  0.28 ,  0.204,  0.447,  0.325,  0.121],\n",
       "       [-0.286, -0.528, -0.186,  0.626,  0.22 ,  0.406],\n",
       "       [-0.28 ,  0.749, -0.447,  0.204, -0.121,  0.325]])"
      ]
     },
     "execution_count": 218,
     "metadata": {},
     "output_type": "execute_result"
    }
   ],
   "source": [
    "Vk = np.take(Vt, range(k), axis=0)\n",
    "Vk"
   ]
  },
  {
   "cell_type": "markdown",
   "metadata": {},
   "source": [
    "Ostatecznie zredukowana macierz $\\mathbf C_k$ term-dokument wygląda następująco:"
   ]
  },
  {
   "cell_type": "code",
   "execution_count": 219,
   "metadata": {},
   "outputs": [
    {
     "data": {
      "text/plain": [
       "array([[ 1.619,  0.605,  0.44 ,  0.966,  0.703,  0.263],\n",
       "       [-0.457, -0.843, -0.296,  0.997,  0.351,  0.647],\n",
       "       [-0.357,  0.955, -0.569,  0.26 , -0.155,  0.415]])"
      ]
     },
     "execution_count": 219,
     "metadata": {},
     "output_type": "execute_result"
    }
   ],
   "source": [
    "Ck = Sk.dot(Vk)\n",
    "Ck"
   ]
  },
  {
   "cell_type": "markdown",
   "metadata": {},
   "source": [
    "Analogicznie musimy zredukować wektor zapytania, zgodnie ze wzorem $\\vec{q}_k = \\Sigma_k^{-1} U_k^T \\vec{q}$"
   ]
  },
  {
   "cell_type": "code",
   "execution_count": 204,
   "metadata": {},
   "outputs": [
    {
     "data": {
      "text/plain": [
       "(array([[ 0.462,  0.   ,  0.   ],\n",
       "        [ 0.   ,  0.627,  0.   ],\n",
       "        [ 0.   ,  0.   ,  0.784]]),\n",
       " array([[ 0.44 ,  0.129,  0.476,  0.703,  0.263],\n",
       "        [-0.296, -0.331, -0.511,  0.351,  0.647],\n",
       "        [-0.569,  0.587,  0.368, -0.155,  0.415]]),\n",
       " array([1, 1, 0, 0, 0]))"
      ]
     },
     "execution_count": 204,
     "metadata": {},
     "output_type": "execute_result"
    }
   ],
   "source": [
    "q = np.array([1,1,0,0,0]) # ship boat\n",
    "Sk_1 = np.linalg.inv(Sk)\n",
    "UkT = np.take(U.T, range(k), axis=0)\n",
    "Sk_1, UkT, q"
   ]
  },
  {
   "cell_type": "code",
   "execution_count": 205,
   "metadata": {},
   "outputs": [
    {
     "data": {
      "text/plain": [
       "array([ 0.263, -0.394,  0.014])"
      ]
     },
     "execution_count": 205,
     "metadata": {},
     "output_type": "execute_result"
    }
   ],
   "source": [
    "qk = Sk_1.dot(UkT).dot(q)\n",
    "qk"
   ]
  },
  {
   "cell_type": "markdown",
   "metadata": {},
   "source": [
    "## Alternatywne podejście\n",
    "Alternatywne podejście polega na ustawieniu *full_matrices=True* i wtedy brane są pełne (czyli kwadratowe) macierze $\\mathbf U $ oraz $\\mathbf V$."
   ]
  },
  {
   "cell_type": "code",
   "execution_count": 206,
   "metadata": {},
   "outputs": [
    {
     "data": {
      "text/plain": [
       "((5, 5), (5,), (6, 6))"
      ]
     },
     "execution_count": 206,
     "metadata": {},
     "output_type": "execute_result"
    }
   ],
   "source": [
    "U2, s2, Vt2 = np.linalg.svd(C, full_matrices=True)\n",
    "U2.shape, s2.shape, Vt2.shape"
   ]
  },
  {
   "cell_type": "markdown",
   "metadata": {},
   "source": [
    "Macierz $\\pmb\\Sigma$ nie musi być kwadratowa i trzeba ją trochę inaczej odtworzyć (tutaj będzie po prostu dodatkowa zerowa kolumna):"
   ]
  },
  {
   "cell_type": "code",
   "execution_count": 208,
   "metadata": {},
   "outputs": [
    {
     "data": {
      "text/plain": [
       "array([[ 2.163,  0.   ,  0.   ,  0.   ,  0.   ,  0.   ],\n",
       "       [ 0.   ,  1.594,  0.   ,  0.   ,  0.   ,  0.   ],\n",
       "       [ 0.   ,  0.   ,  1.275,  0.   ,  0.   ,  0.   ],\n",
       "       [ 0.   ,  0.   ,  0.   ,  1.   ,  0.   ,  0.   ],\n",
       "       [ 0.   ,  0.   ,  0.   ,  0.   ,  0.394,  0.   ]])"
      ]
     },
     "execution_count": 208,
     "metadata": {},
     "output_type": "execute_result"
    }
   ],
   "source": [
    "M,M = U2.shape\n",
    "N,N = Vt2.shape\n",
    "S2 = np.zeros((M, N))\n",
    "K = min(M,N)\n",
    "S2[:K, :K] = np.diag(s2)\n",
    "S2"
   ]
  },
  {
   "cell_type": "code",
   "execution_count": 209,
   "metadata": {},
   "outputs": [
    {
     "data": {
      "text/plain": [
       "array([[ 1.,  0.,  1.,  0.,  0., -0.],\n",
       "       [ 0.,  1.,  0.,  0.,  0., -0.],\n",
       "       [ 1.,  1., -0.,  0.,  0.,  0.],\n",
       "       [ 1.,  0., -0.,  1.,  1.,  0.],\n",
       "       [ 0., -0., -0.,  1.,  0.,  1.]])"
      ]
     },
     "execution_count": 209,
     "metadata": {},
     "output_type": "execute_result"
    }
   ],
   "source": [
    "U2.dot(S2).dot(Vt2)"
   ]
  },
  {
   "cell_type": "code",
   "execution_count": 210,
   "metadata": {},
   "outputs": [
    {
     "data": {
      "text/plain": [
       "array([[ 1., -0.,  0., -0., -0.],\n",
       "       [-0.,  1., -0.,  0., -0.],\n",
       "       [ 0., -0.,  1.,  0.,  0.],\n",
       "       [-0.,  0.,  0.,  1.,  0.],\n",
       "       [-0., -0.,  0.,  0.,  1.]])"
      ]
     },
     "execution_count": 210,
     "metadata": {},
     "output_type": "execute_result"
    }
   ],
   "source": [
    "U2.dot(U2.T)"
   ]
  },
  {
   "cell_type": "code",
   "execution_count": 212,
   "metadata": {},
   "outputs": [
    {
     "data": {
      "text/plain": [
       "array([[ 1.,  0.,  0., -0., -0.,  0.],\n",
       "       [ 0.,  1., -0., -0.,  0.,  0.],\n",
       "       [ 0., -0.,  1.,  0.,  0., -0.],\n",
       "       [-0., -0.,  0.,  1.,  0.,  0.],\n",
       "       [-0.,  0.,  0.,  0.,  1., -0.],\n",
       "       [ 0.,  0., -0.,  0., -0.,  1.]])"
      ]
     },
     "execution_count": 212,
     "metadata": {},
     "output_type": "execute_result"
    }
   ],
   "source": [
    "Vt2.dot(Vt2.T)"
   ]
  },
  {
   "cell_type": "code",
   "execution_count": 216,
   "metadata": {},
   "outputs": [
    {
     "data": {
      "text/plain": [
       "array([[ 2.163,  0.   ,  0.   ,  0.   ,  0.   ,  0.   ],\n",
       "       [ 0.   ,  1.594,  0.   ,  0.   ,  0.   ,  0.   ],\n",
       "       [ 0.   ,  0.   ,  1.275,  0.   ,  0.   ,  0.   ],\n",
       "       [ 0.   ,  0.   ,  0.   ,  0.   ,  0.   ,  0.   ],\n",
       "       [ 0.   ,  0.   ,  0.   ,  0.   ,  0.   ,  0.   ]])"
      ]
     },
     "execution_count": 216,
     "metadata": {},
     "output_type": "execute_result"
    }
   ],
   "source": [
    "sr2 = np.copy(s2)\n",
    "sr2[k:]=0\n",
    "Sk2 = np.zeros((M, N))\n",
    "Sk2[:K, :K] = np.diag(sr2)\n",
    "Sk2"
   ]
  },
  {
   "cell_type": "code",
   "execution_count": 217,
   "metadata": {},
   "outputs": [
    {
     "data": {
      "text/plain": [
       "array([[ 1.619,  0.605,  0.44 ,  0.966,  0.703,  0.263],\n",
       "       [-0.457, -0.843, -0.296,  0.997,  0.351,  0.647],\n",
       "       [-0.357,  0.955, -0.569,  0.26 , -0.155,  0.415],\n",
       "       [ 0.   ,  0.   ,  0.   ,  0.   ,  0.   ,  0.   ],\n",
       "       [ 0.   ,  0.   ,  0.   ,  0.   ,  0.   ,  0.   ]])"
      ]
     },
     "execution_count": 217,
     "metadata": {},
     "output_type": "execute_result"
    }
   ],
   "source": [
    "Sk2.dot(Vt2)"
   ]
  }
 ],
 "metadata": {
  "kernelspec": {
   "display_name": "Python 3 (ipykernel)",
   "language": "python",
   "name": "python3"
  },
  "language_info": {
   "codemirror_mode": {
    "name": "ipython",
    "version": 3
   },
   "file_extension": ".py",
   "mimetype": "text/x-python",
   "name": "python",
   "nbconvert_exporter": "python",
   "pygments_lexer": "ipython3",
   "version": "3.10.5"
  }
 },
 "nbformat": 4,
 "nbformat_minor": 2
}
